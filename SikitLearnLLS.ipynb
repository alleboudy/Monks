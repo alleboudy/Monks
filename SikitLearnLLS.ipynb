{
 "cells": [
  {
   "cell_type": "code",
   "execution_count": 1,
   "metadata": {
    "collapsed": true
   },
   "outputs": [],
   "source": [
    "import matplotlib.pyplot as plt\n",
    "import numpy as np\n",
    "import pandas as pd\n",
    "from sklearn.utils import shuffle"
   ]
  },
  {
   "cell_type": "code",
   "execution_count": 2,
   "metadata": {
    "collapsed": true
   },
   "outputs": [],
   "source": [
    "location2DatasetTrain = 'D:\\\\dropbox\\\\Dropbox\\\\Master Course\\\\SEM-3\\\\ML\\\\CM_CUP_Datasets\\\\train'\n",
    "location2SaveTrainsplit='D:\\\\dropbox\\\\Dropbox\\\\Master Course\\\\SEM-3\\\\ML\\\\CM_CUP_Datasets\\\\60percenttrain.txt'\n",
    "location2SaveTestsplit = 'D:\\\\dropbox\\\\Dropbox\\\\Master Course\\\\SEM-3\\\\ML\\\\CM_CUP_Datasets\\\\60percenttest.txt'"
   ]
  },
  {
   "cell_type": "markdown",
   "metadata": {},
   "source": [
    "## Loading the trainingset of CUP\n",
    "#### the version we used is trimmed, removing the information banner before the data"
   ]
  },
  {
   "cell_type": "code",
   "execution_count": 3,
   "metadata": {
    "collapsed": true
   },
   "outputs": [],
   "source": [
    "df = pd.read_csv(location2DatasetTrain,delimiter=',',header=None, usecols = [1,2,3,4,5,6,7,8,9,10,11,12])"
   ]
  },
  {
   "cell_type": "markdown",
   "metadata": {},
   "source": [
    "### shuffling"
   ]
  },
  {
   "cell_type": "code",
   "execution_count": 4,
   "metadata": {
    "collapsed": true
   },
   "outputs": [],
   "source": [
    "df = shuffle(df,random_state=1)"
   ]
  },
  {
   "cell_type": "markdown",
   "metadata": {},
   "source": [
    "### 60% for training and 40% testing"
   ]
  },
  {
   "cell_type": "code",
   "execution_count": 5,
   "metadata": {
    "collapsed": true
   },
   "outputs": [],
   "source": [
    "sixteepercent = (int)(np.ceil(df.values.shape[0]*0.6))"
   ]
  },
  {
   "cell_type": "code",
   "execution_count": 6,
   "metadata": {
    "collapsed": true
   },
   "outputs": [],
   "source": [
    "train_features = df.values[:sixteepercent,0:10]\n",
    "test_features = df.values[sixteepercent:,0:10]\n",
    "train_target = df.values[:sixteepercent,10:]\n",
    "test_target = df.values[sixteepercent:,10:]"
   ]
  },
  {
   "cell_type": "markdown",
   "metadata": {},
   "source": [
    "## saving the train and test files\n",
    "#### please uncomment the cell, if the data files are not yet present"
   ]
  },
  {
   "cell_type": "code",
   "execution_count": 7,
   "metadata": {
    "collapsed": true
   },
   "outputs": [],
   "source": [
    "#saving the train and test files\n",
    "#np.savetxt(location2SaveTrainsplit,df.values[sixteepercent:,:],delimiter =',',fmt='%f')\n",
    "#np.savetxt(location2SaveTestsplit,df.values[sixteepercent:,:],delimiter =',',fmt='%f')"
   ]
  },
  {
   "cell_type": "markdown",
   "metadata": {},
   "source": [
    "## Training a LLS model from sikitlearn with a SVD solver"
   ]
  },
  {
   "cell_type": "code",
   "execution_count": 8,
   "metadata": {},
   "outputs": [
    {
     "name": "stdout",
     "output_type": "stream",
     "text": [
      "time: 231.05430603027344\n"
     ]
    }
   ],
   "source": [
    "#from sklearn import linear_model\n",
    "from sklearn.linear_model import Ridge\n",
    "#reg = linear_model.LinearRegression()\n",
    "reg = Ridge(alpha=1.0,solver='svd',tol=0.000001,fit_intercept=True)\n",
    "import time\n",
    "t1=time.time()\n",
    "reg.fit (train_features, train_target)\n",
    "t2=time.time()\n",
    "print('time:',(t2-t1)*1000)"
   ]
  },
  {
   "cell_type": "code",
   "execution_count": 9,
   "metadata": {},
   "outputs": [
    {
     "data": {
      "text/plain": [
       "array([[ -4.93464519e-01,   1.66455830e+00,  -2.77512881e-01,\n",
       "         -5.84060810e-01,  -1.24829627e+00,  -1.82867253e-03,\n",
       "         -5.81070928e-01,   3.42878098e+00,  -1.77038814e+00,\n",
       "          2.49755673e-01],\n",
       "       [ -1.28996090e+00,  -1.12973130e+00,  -1.43327099e+00,\n",
       "         -1.02208721e+00,   2.96086047e-01,  -1.50807657e+00,\n",
       "         -1.20340543e+00,  -9.38985924e-01,   9.11270270e-01,\n",
       "         -1.42108530e+00]])"
      ]
     },
     "execution_count": 9,
     "metadata": {},
     "output_type": "execute_result"
    }
   ],
   "source": [
    "reg.coef_"
   ]
  },
  {
   "cell_type": "markdown",
   "metadata": {},
   "source": [
    "## computing the norm of residuals for the test set"
   ]
  },
  {
   "cell_type": "code",
   "execution_count": 10,
   "metadata": {},
   "outputs": [
    {
     "data": {
      "text/plain": [
       "array([ 244.37040204,  275.40880744])"
      ]
     },
     "execution_count": 10,
     "metadata": {},
     "output_type": "execute_result"
    }
   ],
   "source": [
    "#reg.score(test_features,test_target)\n",
    "#(((test_features.dot(reg.coef_.transpose())- test_target)**2).sum(axis=1)/(2 * test_target.shape[0])).mean()\n",
    "np.sqrt(((test_features.dot(reg.coef_.transpose())- test_target)**2).sum(axis=0))"
   ]
  },
  {
   "cell_type": "markdown",
   "metadata": {},
   "source": [
    "## LLS with a stochastic gradient descent method"
   ]
  },
  {
   "cell_type": "code",
   "execution_count": 11,
   "metadata": {},
   "outputs": [
    {
     "name": "stdout",
     "output_type": "stream",
     "text": [
      "time: 18.99242401123047\n"
     ]
    },
    {
     "data": {
      "text/plain": [
       "array([ 244.35415956,  275.40903645])"
      ]
     },
     "execution_count": 11,
     "metadata": {},
     "output_type": "execute_result"
    }
   ],
   "source": [
    "reg = Ridge(alpha=0.1,max_iter=1000,solver='sag',fit_intercept=True)\n",
    "import time\n",
    "t1=time.time()\n",
    "reg.fit (train_features, train_target)\n",
    "t2=time.time()\n",
    "print('time:',(t2-t1)*1000)\n",
    "np.sqrt(((test_features.dot(reg.coef_.transpose())- test_target)**2).sum(axis=0))"
   ]
  },
  {
   "cell_type": "code",
   "execution_count": null,
   "metadata": {
    "collapsed": true
   },
   "outputs": [],
   "source": []
  }
 ],
 "metadata": {
  "anaconda-cloud": {},
  "kernelspec": {
   "display_name": "Python 3",
   "language": "python",
   "name": "python3"
  },
  "language_info": {
   "codemirror_mode": {
    "name": "ipython",
    "version": 3
   },
   "file_extension": ".py",
   "mimetype": "text/x-python",
   "name": "python",
   "nbconvert_exporter": "python",
   "pygments_lexer": "ipython3",
   "version": "3.5.0"
  }
 },
 "nbformat": 4,
 "nbformat_minor": 1
}
