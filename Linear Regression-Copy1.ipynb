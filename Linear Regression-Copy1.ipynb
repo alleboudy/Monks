{
 "cells": [
  {
   "cell_type": "code",
   "execution_count": 1,
   "metadata": {
    "collapsed": true
   },
   "outputs": [],
   "source": [
    "import matplotlib.pyplot as plt\n",
    "import numpy as np\n",
    "import pandas as pd\n",
    "from sklearn.utils import shuffle"
   ]
  },
  {
   "cell_type": "code",
   "execution_count": 2,
   "metadata": {},
   "outputs": [],
   "source": [
    "df = pd.read_csv('D:\\\\dropbox\\\\Dropbox\\\\Master Course\\\\SEM-3\\\\ML\\\\CM_CUP_Datasets\\\\train',delimiter=',',header=None, usecols = [1,2,3,4,5,6,7,8,9,10,11,12])"
   ]
  },
  {
   "cell_type": "code",
   "execution_count": 3,
   "metadata": {},
   "outputs": [],
   "source": [
    "df = shuffle(df,random_state=1)"
   ]
  },
  {
   "cell_type": "code",
   "execution_count": 4,
   "metadata": {},
   "outputs": [],
   "source": [
    "sixteepercent = (int)(np.ceil(df.values.shape[0]*0.6))"
   ]
  },
  {
   "cell_type": "code",
   "execution_count": 5,
   "metadata": {},
   "outputs": [
    {
     "data": {
      "text/plain": [
       "610"
      ]
     },
     "execution_count": 5,
     "metadata": {},
     "output_type": "execute_result"
    }
   ],
   "source": [
    "sixteepercent"
   ]
  },
  {
   "cell_type": "code",
   "execution_count": 6,
   "metadata": {
    "collapsed": true
   },
   "outputs": [],
   "source": [
    "train_features = df.values[:sixteepercent,0:10]\n",
    "test_features = df.values[sixteepercent:,0:10]\n",
    "train_target = df.values[:sixteepercent,10:]\n",
    "test_target = df.values[sixteepercent:,10:]"
   ]
  },
  {
   "cell_type": "code",
   "execution_count": 7,
   "metadata": {},
   "outputs": [],
   "source": [
    "#saving the train and test files\n",
    "#np.savetxt('D:\\\\dropbox\\\\Dropbox\\\\Master Course\\\\SEM-3\\\\ML\\\\CM_CUP_Datasets\\\\60percenttrain.txt',df.values[sixteepercent:,:],delimiter =',',fmt='%f')\n",
    "#np.savetxt('D:\\\\dropbox\\\\Dropbox\\\\Master Course\\\\SEM-3\\\\ML\\\\CM_CUP_Datasets\\\\60percenttest.txt',df.values[sixteepercent:,:],delimiter =',',fmt='%f')"
   ]
  },
  {
   "cell_type": "code",
   "execution_count": 8,
   "metadata": {},
   "outputs": [
    {
     "name": "stdout",
     "output_type": "stream",
     "text": [
      "15.501022338867188\n"
     ]
    }
   ],
   "source": [
    "#from sklearn import linear_model\n",
    "from sklearn.linear_model import Ridge\n",
    "#reg = linear_model.LinearRegression()\n",
    "reg = Ridge(alpha=1.0,solver='svd',tol=0.000001,fit_intercept=True)\n",
    "import time\n",
    "t1=time.time()\n",
    "reg.fit (train_features, train_target)\n",
    "t2=time.time()\n",
    "print((t2-t1)*1000)"
   ]
  },
  {
   "cell_type": "code",
   "execution_count": null,
   "metadata": {},
   "outputs": [],
   "source": [
    "reg.coef_"
   ]
  },
  {
   "cell_type": "code",
   "execution_count": 9,
   "metadata": {},
   "outputs": [
    {
     "data": {
      "text/plain": [
       "0.41121752714451043"
      ]
     },
     "execution_count": 9,
     "metadata": {},
     "output_type": "execute_result"
    }
   ],
   "source": [
    "#reg.score(test_features,test_target)\n",
    "(((test_features.dot(reg.coef_.transpose())- test_target)**2).sum(axis=1)\n",
    "/(2 * test_target.shape[0])).mean()"
   ]
  },
  {
   "cell_type": "code",
   "execution_count": null,
   "metadata": {},
   "outputs": [],
   "source": [
    "from sklearn import tree\n",
    "from sklearn import metrics\n",
    "from sklearn.tree import export_graphviz\n",
    "from sklearn.ensemble import RandomForestClassifier, ExtraTreesClassifier\n",
    "from sklearn.metrics import confusion_matrix\n",
    "from sklearn.cross_validation import train_test_split\n",
    "from sklearn import cross_validation\n",
    "from sklearn.cross_validation import cross_val_score\n",
    "from sklearn import neighbors\n",
    "from sklearn import linear_model\n",
    "from sklearn.naive_bayes import GaussianNB\n",
    "from sklearn import svm\n",
    "\n",
    "\n",
    "pred_target = reg.predict(testingData)\n",
    "\n",
    "for i in range(len(pred_target)):\n",
    "    if (pred_target[i] < 0.5):\n",
    "        pred_target[i] = 0\n",
    "    else:\n",
    "        pred_target[i] = 1\n",
    "\n",
    "#print ('Precision :',metrics.precision_score(train_target, pred_target, average='weighted'))\n",
    "#print ('Recall :',metrics.recall_score(train_target, pred_target, average='weighted'))\n",
    "#print ('F1 :',metrics.f1_score(train_target, pred_target, average='weighted'))\n",
    "print ('Accuracy ',metrics.accuracy_score(test_target, pred_target))\n",
    "#print ('precision_recall_fscore_support',metrics.precision_recall_fscore_support(train_target, pred_target))"
   ]
  }
 ],
 "metadata": {
  "anaconda-cloud": {},
  "kernelspec": {
   "display_name": "Python 3",
   "language": "python",
   "name": "python3"
  },
  "language_info": {
   "codemirror_mode": {
    "name": "ipython",
    "version": 3
   },
   "file_extension": ".py",
   "mimetype": "text/x-python",
   "name": "python",
   "nbconvert_exporter": "python",
   "pygments_lexer": "ipython3",
   "version": "3.5.0"
  }
 },
 "nbformat": 4,
 "nbformat_minor": 1
}
