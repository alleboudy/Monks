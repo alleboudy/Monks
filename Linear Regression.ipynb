{
 "cells": [
  {
   "cell_type": "code",
   "execution_count": 1,
   "metadata": {
    "collapsed": true
   },
   "outputs": [],
   "source": [
    "import matplotlib.pyplot as plt\n",
    "import numpy as np\n",
    "import pandas as pd"
   ]
  },
  {
   "cell_type": "code",
   "execution_count": 2,
   "metadata": {
    "collapsed": true
   },
   "outputs": [],
   "source": [
    "df = pd.read_csv('E:\\\\Dropbox (个人)\\\\Master Course\\\\SEM-3\\\\ML\\\\Monk\\\\MONKS-DATASETS\\\\dataset1train',delimiter=' ',header=None, usecols = [1,2,3,4,5,6,7])"
   ]
  },
  {
   "cell_type": "code",
   "execution_count": 3,
   "metadata": {
    "collapsed": false
   },
   "outputs": [],
   "source": [
    "train_data = df.values\n",
    "train_features = train_data[:, 1:7]\n",
    "train_target = train_data[:, 0]"
   ]
  },
  {
   "cell_type": "code",
   "execution_count": 4,
   "metadata": {
    "collapsed": false
   },
   "outputs": [],
   "source": [
    "trainingData=[]\n",
    "for line in train_features:\n",
    "    newline=[]\n",
    "    if  line[0] == 1:\n",
    "        newline.append(1)\n",
    "    else:\n",
    "        newline.append(0)\n",
    "    if  line[0] == 2:\n",
    "        newline.append(1)\n",
    "    else:\n",
    "        newline.append(0)\n",
    "    if  line[0] == 3:\n",
    "        newline.append(1)\n",
    "    else:\n",
    "        newline.append(0)\n",
    "    if  line[1] == 1:\n",
    "        newline.append(1)\n",
    "    else:\n",
    "        newline.append(0)\n",
    "    if  line[1] == 2:\n",
    "        newline.append(1)\n",
    "    else:\n",
    "        newline.append(0)\n",
    "    if  line[1] == 3:\n",
    "        newline.append(1)\n",
    "    else:\n",
    "        newline.append(0)\n",
    "    if  line[2] == 1:\n",
    "        newline.append(1)\n",
    "    else:\n",
    "        newline.append(0)\n",
    "    if  line[2] == 2:\n",
    "        newline.append(1)\n",
    "    else:\n",
    "        newline.append(0)\n",
    "    if  line[3] == 1:\n",
    "        newline.append(1)\n",
    "    else:\n",
    "        newline.append(0)\n",
    "    if  line[3] == 2:\n",
    "        newline.append(1)\n",
    "    else:\n",
    "        newline.append(0)\n",
    "    if  line[3] == 3:\n",
    "        newline.append(1)\n",
    "    else:\n",
    "        newline.append(0)\n",
    "    if  line[4] == 1:\n",
    "        newline.append(1)\n",
    "    else:\n",
    "        newline.append(0)\n",
    "    if  line[4] == 2:\n",
    "        newline.append(1)\n",
    "    else:\n",
    "        newline.append(0)\n",
    "    if  line[4] == 3:\n",
    "        newline.append(1)\n",
    "    else:\n",
    "        newline.append(0)\n",
    "    if  line[4] == 4:\n",
    "        newline.append(1)\n",
    "    else:\n",
    "        newline.append(0)\n",
    "    if  line[5] == 1:\n",
    "        newline.append(1)\n",
    "    else:\n",
    "        newline.append(0)\n",
    "    if  line[5] == 2:\n",
    "        newline.append(1)\n",
    "    else:\n",
    "        newline.append(0)\n",
    "    trainingData.append(newline)"
   ]
  },
  {
   "cell_type": "code",
   "execution_count": 5,
   "metadata": {
    "collapsed": false
   },
   "outputs": [],
   "source": [
    "trainingData = np.asarray(trainingData)"
   ]
  },
  {
   "cell_type": "code",
   "execution_count": 6,
   "metadata": {
    "collapsed": false
   },
   "outputs": [
    {
     "data": {
      "text/plain": [
       "array([1, 1, 1, 1, 1, 1, 1, 1, 1, 1, 0, 0, 0, 1, 0, 0, 0, 0, 0, 0, 0, 0, 0,\n",
       "       0, 0, 0, 0, 0, 0, 0, 1, 0, 0, 0, 0, 0, 1, 0, 0, 0, 0, 1, 0, 0, 0, 0,\n",
       "       0, 1, 1, 0, 0, 0, 0, 0, 0, 0, 0, 0, 0, 0, 0, 1, 1, 1, 1, 1, 1, 1, 1,\n",
       "       1, 1, 1, 1, 1, 1, 1, 1, 1, 0, 1, 0, 0, 0, 1, 1, 0, 0, 1, 1, 1, 0, 0,\n",
       "       1, 0, 0, 0, 0, 1, 0, 1, 0, 1, 1, 0, 1, 0, 0, 1, 1, 1, 1, 1, 1, 1, 1,\n",
       "       1, 1, 1, 1, 1, 1, 1, 1, 1], dtype=int64)"
      ]
     },
     "execution_count": 6,
     "metadata": {},
     "output_type": "execute_result"
    }
   ],
   "source": [
    "trainingData\n",
    "train_target"
   ]
  },
  {
   "cell_type": "code",
   "execution_count": 93,
   "metadata": {
    "collapsed": false
   },
   "outputs": [
    {
     "data": {
      "text/plain": [
       "Ridge(alpha=1.0, copy_X=True, fit_intercept=True, max_iter=None,\n",
       "   normalize=False, random_state=None, solver='lsqr', tol=1e-06)"
      ]
     },
     "execution_count": 93,
     "metadata": {},
     "output_type": "execute_result"
    }
   ],
   "source": [
    "#from sklearn import linear_model\n",
    "from sklearn.linear_model import Ridge\n",
    "#reg = linear_model.LinearRegression()\n",
    "reg = Ridge(alpha=1.0,solver='lsqr',tol=0.000001)\n",
    "reg.fit (trainingData, train_target)"
   ]
  },
  {
   "cell_type": "code",
   "execution_count": 94,
   "metadata": {
    "collapsed": true
   },
   "outputs": [],
   "source": [
    "df = pd.read_csv('E:\\\\Dropbox (个人)\\\\Master Course\\\\SEM-3\\\\ML\\\\Monk\\\\MONKS-DATASETS\\\\dataset1test',delimiter=' ',header=None, usecols = [1,2,3,4,5,6,7])"
   ]
  },
  {
   "cell_type": "code",
   "execution_count": 95,
   "metadata": {
    "collapsed": true
   },
   "outputs": [],
   "source": [
    "test_data = df.values\n",
    "test_features = test_data[:, 1:7]\n",
    "test_target = test_data[:, 0]"
   ]
  },
  {
   "cell_type": "code",
   "execution_count": 96,
   "metadata": {
    "collapsed": false
   },
   "outputs": [],
   "source": [
    "testingData=[]\n",
    "for line in test_features:\n",
    "    newline=[]\n",
    "    if  line[0] == 1:\n",
    "        newline.append(1)\n",
    "    else:\n",
    "        newline.append(0)\n",
    "    if  line[0] == 2:\n",
    "        newline.append(1)\n",
    "    else:\n",
    "        newline.append(0)\n",
    "    if  line[0] == 3:\n",
    "        newline.append(1)\n",
    "    else:\n",
    "        newline.append(0)\n",
    "    if  line[1] == 1:\n",
    "        newline.append(1)\n",
    "    else:\n",
    "        newline.append(0)\n",
    "    if  line[1] == 2:\n",
    "        newline.append(1)\n",
    "    else:\n",
    "        newline.append(0)\n",
    "    if  line[1] == 3:\n",
    "        newline.append(1)\n",
    "    else:\n",
    "        newline.append(0)\n",
    "    if  line[2] == 1:\n",
    "        newline.append(1)\n",
    "    else:\n",
    "        newline.append(0)\n",
    "    if  line[2] == 2:\n",
    "        newline.append(1)\n",
    "    else:\n",
    "        newline.append(0)\n",
    "    if  line[3] == 1:\n",
    "        newline.append(1)\n",
    "    else:\n",
    "        newline.append(0)\n",
    "    if  line[3] == 2:\n",
    "        newline.append(1)\n",
    "    else:\n",
    "        newline.append(0)\n",
    "    if  line[3] == 3:\n",
    "        newline.append(1)\n",
    "    else:\n",
    "        newline.append(0)\n",
    "    if  line[4] == 1:\n",
    "        newline.append(1)\n",
    "    else:\n",
    "        newline.append(0)\n",
    "    if  line[4] == 2:\n",
    "        newline.append(1)\n",
    "    else:\n",
    "        newline.append(0)\n",
    "    if  line[4] == 3:\n",
    "        newline.append(1)\n",
    "    else:\n",
    "        newline.append(0)\n",
    "    if  line[4] == 4:\n",
    "        newline.append(1)\n",
    "    else:\n",
    "        newline.append(0)\n",
    "    if  line[5] == 1:\n",
    "        newline.append(1)\n",
    "    else:\n",
    "        newline.append(0)\n",
    "    if  line[5] == 2:\n",
    "        newline.append(1)\n",
    "    else:\n",
    "        newline.append(0)\n",
    "    testingData.append(newline)"
   ]
  },
  {
   "cell_type": "code",
   "execution_count": 97,
   "metadata": {
    "collapsed": true
   },
   "outputs": [],
   "source": [
    "testingData = np.asarray(testingData)"
   ]
  },
  {
   "cell_type": "code",
   "execution_count": 98,
   "metadata": {
    "collapsed": false
   },
   "outputs": [
    {
     "data": {
      "text/plain": [
       "(432, 17)"
      ]
     },
     "execution_count": 98,
     "metadata": {},
     "output_type": "execute_result"
    }
   ],
   "source": [
    "testingData.shape"
   ]
  },
  {
   "cell_type": "code",
   "execution_count": 99,
   "metadata": {
    "collapsed": false
   },
   "outputs": [
    {
     "data": {
      "text/plain": [
       "(432,)"
      ]
     },
     "execution_count": 99,
     "metadata": {},
     "output_type": "execute_result"
    }
   ],
   "source": [
    "test_target.shape"
   ]
  },
  {
   "cell_type": "code",
   "execution_count": 100,
   "metadata": {
    "collapsed": false
   },
   "outputs": [
    {
     "data": {
      "text/plain": [
       "0.25479443900593901"
      ]
     },
     "execution_count": 100,
     "metadata": {},
     "output_type": "execute_result"
    }
   ],
   "source": [
    "reg.score(testingData,test_target)"
   ]
  },
  {
   "cell_type": "code",
   "execution_count": 101,
   "metadata": {
    "collapsed": false
   },
   "outputs": [
    {
     "data": {
      "text/plain": [
       "array([-0.13221164,  0.02249092,  0.10972072, -0.0584471 ,  0.02528816,\n",
       "        0.03315894,  0.02547596, -0.02547596,  0.08670933, -0.08822624,\n",
       "        0.00151691,  0.42827184, -0.14519997, -0.11571549, -0.16735638,\n",
       "       -0.00480477,  0.00480477])"
      ]
     },
     "execution_count": 101,
     "metadata": {},
     "output_type": "execute_result"
    }
   ],
   "source": [
    "reg.coef_"
   ]
  },
  {
   "cell_type": "code",
   "execution_count": 102,
   "metadata": {
    "collapsed": false
   },
   "outputs": [
    {
     "data": {
      "text/plain": [
       "0.37954788502925685"
      ]
     },
     "execution_count": 102,
     "metadata": {},
     "output_type": "execute_result"
    }
   ],
   "source": [
    "reg.score(trainingData,train_target)"
   ]
  },
  {
   "cell_type": "code",
   "execution_count": 117,
   "metadata": {
    "collapsed": false
   },
   "outputs": [
    {
     "ename": "ValueError",
     "evalue": "Can't handle mix of binary and continuous",
     "output_type": "error",
     "traceback": [
      "\u001b[1;31m---------------------------------------------------------------------------\u001b[0m",
      "\u001b[1;31mValueError\u001b[0m                                Traceback (most recent call last)",
      "\u001b[1;32m<ipython-input-117-1726a11b7963>\u001b[0m in \u001b[0;36m<module>\u001b[1;34m()\u001b[0m\n\u001b[0;32m     18\u001b[0m \u001b[1;31m#print ('Recall :',metrics.recall_score(train_target, pred_target, average='weighted'))\u001b[0m\u001b[1;33m\u001b[0m\u001b[1;33m\u001b[0m\u001b[0m\n\u001b[0;32m     19\u001b[0m \u001b[1;31m#print ('F1 :',metrics.f1_score(train_target, pred_target, average='weighted'))\u001b[0m\u001b[1;33m\u001b[0m\u001b[1;33m\u001b[0m\u001b[0m\n\u001b[1;32m---> 20\u001b[1;33m \u001b[0mprint\u001b[0m \u001b[1;33m(\u001b[0m\u001b[1;34m'Accuracy '\u001b[0m\u001b[1;33m,\u001b[0m\u001b[0mmetrics\u001b[0m\u001b[1;33m.\u001b[0m\u001b[0maccuracy_score\u001b[0m\u001b[1;33m(\u001b[0m\u001b[0mtest_target\u001b[0m\u001b[1;33m,\u001b[0m \u001b[0mpred_target\u001b[0m\u001b[1;33m,\u001b[0m\u001b[0mnormalize\u001b[0m\u001b[1;33m=\u001b[0m\u001b[1;32mFalse\u001b[0m\u001b[1;33m)\u001b[0m\u001b[1;33m)\u001b[0m\u001b[1;33m\u001b[0m\u001b[0m\n\u001b[0m\u001b[0;32m     21\u001b[0m \u001b[1;31m#print ('precision_recall_fscore_support',metrics.precision_recall_fscore_support(train_target, pred_target))\u001b[0m\u001b[1;33m\u001b[0m\u001b[1;33m\u001b[0m\u001b[0m\n",
      "\u001b[1;32mC:\\Program Files\\Anaconda2\\envs\\ML\\lib\\site-packages\\sklearn\\metrics\\classification.py\u001b[0m in \u001b[0;36maccuracy_score\u001b[1;34m(y_true, y_pred, normalize, sample_weight)\u001b[0m\n\u001b[0;32m    170\u001b[0m \u001b[1;33m\u001b[0m\u001b[0m\n\u001b[0;32m    171\u001b[0m     \u001b[1;31m# Compute accuracy for each possible representation\u001b[0m\u001b[1;33m\u001b[0m\u001b[1;33m\u001b[0m\u001b[0m\n\u001b[1;32m--> 172\u001b[1;33m     \u001b[0my_type\u001b[0m\u001b[1;33m,\u001b[0m \u001b[0my_true\u001b[0m\u001b[1;33m,\u001b[0m \u001b[0my_pred\u001b[0m \u001b[1;33m=\u001b[0m \u001b[0m_check_targets\u001b[0m\u001b[1;33m(\u001b[0m\u001b[0my_true\u001b[0m\u001b[1;33m,\u001b[0m \u001b[0my_pred\u001b[0m\u001b[1;33m)\u001b[0m\u001b[1;33m\u001b[0m\u001b[0m\n\u001b[0m\u001b[0;32m    173\u001b[0m     \u001b[1;32mif\u001b[0m \u001b[0my_type\u001b[0m\u001b[1;33m.\u001b[0m\u001b[0mstartswith\u001b[0m\u001b[1;33m(\u001b[0m\u001b[1;34m'multilabel'\u001b[0m\u001b[1;33m)\u001b[0m\u001b[1;33m:\u001b[0m\u001b[1;33m\u001b[0m\u001b[0m\n\u001b[0;32m    174\u001b[0m         \u001b[0mdiffering_labels\u001b[0m \u001b[1;33m=\u001b[0m \u001b[0mcount_nonzero\u001b[0m\u001b[1;33m(\u001b[0m\u001b[0my_true\u001b[0m \u001b[1;33m-\u001b[0m \u001b[0my_pred\u001b[0m\u001b[1;33m,\u001b[0m \u001b[0maxis\u001b[0m\u001b[1;33m=\u001b[0m\u001b[1;36m1\u001b[0m\u001b[1;33m)\u001b[0m\u001b[1;33m\u001b[0m\u001b[0m\n",
      "\u001b[1;32mC:\\Program Files\\Anaconda2\\envs\\ML\\lib\\site-packages\\sklearn\\metrics\\classification.py\u001b[0m in \u001b[0;36m_check_targets\u001b[1;34m(y_true, y_pred)\u001b[0m\n\u001b[0;32m     80\u001b[0m     \u001b[1;32mif\u001b[0m \u001b[0mlen\u001b[0m\u001b[1;33m(\u001b[0m\u001b[0my_type\u001b[0m\u001b[1;33m)\u001b[0m \u001b[1;33m>\u001b[0m \u001b[1;36m1\u001b[0m\u001b[1;33m:\u001b[0m\u001b[1;33m\u001b[0m\u001b[0m\n\u001b[0;32m     81\u001b[0m         raise ValueError(\"Can't handle mix of {0} and {1}\"\n\u001b[1;32m---> 82\u001b[1;33m                          \"\".format(type_true, type_pred))\n\u001b[0m\u001b[0;32m     83\u001b[0m \u001b[1;33m\u001b[0m\u001b[0m\n\u001b[0;32m     84\u001b[0m     \u001b[1;31m# We can't have more than one value on y_type => The set is no more needed\u001b[0m\u001b[1;33m\u001b[0m\u001b[1;33m\u001b[0m\u001b[0m\n",
      "\u001b[1;31mValueError\u001b[0m: Can't handle mix of binary and continuous"
     ]
    }
   ],
   "source": [
    "from sklearn import tree\n",
    "from sklearn import metrics\n",
    "from sklearn.tree import export_graphviz\n",
    "from sklearn.ensemble import RandomForestClassifier, ExtraTreesClassifier\n",
    "from sklearn.metrics import confusion_matrix\n",
    "from sklearn.cross_validation import train_test_split\n",
    "from sklearn import cross_validation\n",
    "from sklearn.cross_validation import cross_val_score\n",
    "from sklearn import neighbors\n",
    "from sklearn import linear_model\n",
    "from sklearn.naive_bayes import GaussianNB\n",
    "from sklearn import svm\n",
    "\n",
    "\n",
    "pred_target = reg.predict(testingData)\n",
    "\n",
    "#print ('Precision :',metrics.precision_score(train_target, pred_target, average='weighted'))\n",
    "#print ('Recall :',metrics.recall_score(train_target, pred_target, average='weighted'))\n",
    "#print ('F1 :',metrics.f1_score(train_target, pred_target, average='weighted'))\n",
    "print ('Accuracy ',metrics.accuracy_score(test_target, pred_target))\n",
    "#print ('precision_recall_fscore_support',metrics.precision_recall_fscore_support(train_target, pred_target))"
   ]
  },
  {
   "cell_type": "code",
   "execution_count": 124,
   "metadata": {
    "collapsed": false
   },
   "outputs": [],
   "source": [
    "for i in range(len(pred_target)):\n",
    "    if (pred_target[i] < 0.5):\n",
    "        pred_target[i] = 0\n",
    "    else:\n",
    "        pred_target[i] = 1"
   ]
  },
  {
   "cell_type": "code",
   "execution_count": 126,
   "metadata": {
    "collapsed": false
   },
   "outputs": [
    {
     "name": "stdout",
     "output_type": "stream",
     "text": [
      "Accuracy  0.731481481481\n"
     ]
    }
   ],
   "source": [
    "print ('Accuracy ',metrics.accuracy_score(test_target, pred_target))"
   ]
  }
 ],
 "metadata": {
  "anaconda-cloud": {},
  "kernelspec": {
   "display_name": "Python [conda env:ML]",
   "language": "python",
   "name": "conda-env-ML-py"
  },
  "language_info": {
   "codemirror_mode": {
    "name": "ipython",
    "version": 3
   },
   "file_extension": ".py",
   "mimetype": "text/x-python",
   "name": "python",
   "nbconvert_exporter": "python",
   "pygments_lexer": "ipython3",
   "version": "3.5.3"
  }
 },
 "nbformat": 4,
 "nbformat_minor": 1
}
