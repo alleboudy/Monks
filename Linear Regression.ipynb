{
 "cells": [
  {
   "cell_type": "code",
   "execution_count": 49,
   "metadata": {
    "collapsed": true
   },
   "outputs": [],
   "source": [
    "import matplotlib.pyplot as plt\n",
    "import numpy as np\n",
    "import pandas as pd"
   ]
  },
  {
   "cell_type": "code",
   "execution_count": 50,
   "metadata": {
    "collapsed": true
   },
   "outputs": [],
   "source": [
    "df = pd.read_csv('E:\\\\Dropbox (个人)\\\\Master Course\\\\SEM-3\\\\ML\\\\Monk\\\\MONKS-DATASETS\\\\dataset1train',delimiter=' ',header=None, usecols = [1,2,3,4,5,6,7])"
   ]
  },
  {
   "cell_type": "code",
   "execution_count": 51,
   "metadata": {
    "collapsed": false
   },
   "outputs": [],
   "source": [
    "train_data = df.values\n",
    "train_features = train_data[:, 1:7]\n",
    "train_target = train_data[:, 0]"
   ]
  },
  {
   "cell_type": "code",
   "execution_count": 52,
   "metadata": {
    "collapsed": false
   },
   "outputs": [],
   "source": [
    "trainingData=[]\n",
    "for line in train_features:\n",
    "    newline=[]\n",
    "    if  line[0] == 1:\n",
    "        newline.append(1)\n",
    "    else:\n",
    "        newline.append(0)\n",
    "    if  line[0] == 2:\n",
    "        newline.append(1)\n",
    "    else:\n",
    "        newline.append(0)\n",
    "    if  line[0] == 3:\n",
    "        newline.append(1)\n",
    "    else:\n",
    "        newline.append(0)\n",
    "    if  line[1] == 1:\n",
    "        newline.append(1)\n",
    "    else:\n",
    "        newline.append(0)\n",
    "    if  line[1] == 2:\n",
    "        newline.append(1)\n",
    "    else:\n",
    "        newline.append(0)\n",
    "    if  line[1] == 3:\n",
    "        newline.append(1)\n",
    "    else:\n",
    "        newline.append(0)\n",
    "    if  line[2] == 1:\n",
    "        newline.append(1)\n",
    "    else:\n",
    "        newline.append(0)\n",
    "    if  line[2] == 2:\n",
    "        newline.append(1)\n",
    "    else:\n",
    "        newline.append(0)\n",
    "    if  line[3] == 1:\n",
    "        newline.append(1)\n",
    "    else:\n",
    "        newline.append(0)\n",
    "    if  line[3] == 2:\n",
    "        newline.append(1)\n",
    "    else:\n",
    "        newline.append(0)\n",
    "    if  line[3] == 3:\n",
    "        newline.append(1)\n",
    "    else:\n",
    "        newline.append(0)\n",
    "    if  line[4] == 1:\n",
    "        newline.append(1)\n",
    "    else:\n",
    "        newline.append(0)\n",
    "    if  line[4] == 2:\n",
    "        newline.append(1)\n",
    "    else:\n",
    "        newline.append(0)\n",
    "    if  line[4] == 3:\n",
    "        newline.append(1)\n",
    "    else:\n",
    "        newline.append(0)\n",
    "    if  line[4] == 4:\n",
    "        newline.append(1)\n",
    "    else:\n",
    "        newline.append(0)\n",
    "    if  line[5] == 1:\n",
    "        newline.append(1)\n",
    "    else:\n",
    "        newline.append(0)\n",
    "    if  line[5] == 2:\n",
    "        newline.append(1)\n",
    "    else:\n",
    "        newline.append(0)\n",
    "    trainingData.append(newline)"
   ]
  },
  {
   "cell_type": "code",
   "execution_count": 53,
   "metadata": {
    "collapsed": false
   },
   "outputs": [],
   "source": [
    "trainingData = np.asarray(trainingData)"
   ]
  },
  {
   "cell_type": "code",
   "execution_count": 54,
   "metadata": {
    "collapsed": false
   },
   "outputs": [
    {
     "data": {
      "text/plain": [
       "array([1, 1, 1, 1, 1, 1, 1, 1, 1, 1, 0, 0, 0, 1, 0, 0, 0, 0, 0, 0, 0, 0, 0,\n",
       "       0, 0, 0, 0, 0, 0, 0, 1, 0, 0, 0, 0, 0, 1, 0, 0, 0, 0, 1, 0, 0, 0, 0,\n",
       "       0, 1, 1, 0, 0, 0, 0, 0, 0, 0, 0, 0, 0, 0, 0, 1, 1, 1, 1, 1, 1, 1, 1,\n",
       "       1, 1, 1, 1, 1, 1, 1, 1, 1, 0, 1, 0, 0, 0, 1, 1, 0, 0, 1, 1, 1, 0, 0,\n",
       "       1, 0, 0, 0, 0, 1, 0, 1, 0, 1, 1, 0, 1, 0, 0, 1, 1, 1, 1, 1, 1, 1, 1,\n",
       "       1, 1, 1, 1, 1, 1, 1, 1, 1], dtype=int64)"
      ]
     },
     "execution_count": 54,
     "metadata": {},
     "output_type": "execute_result"
    }
   ],
   "source": [
    "trainingData\n",
    "train_target"
   ]
  },
  {
   "cell_type": "code",
   "execution_count": 55,
   "metadata": {
    "collapsed": false
   },
   "outputs": [
    {
     "data": {
      "text/plain": [
       "Ridge(alpha=1.0, copy_X=True, fit_intercept=True, max_iter=None,\n",
       "   normalize=False, random_state=None, solver='svd', tol=1e-06)"
      ]
     },
     "execution_count": 55,
     "metadata": {},
     "output_type": "execute_result"
    }
   ],
   "source": [
    "#from sklearn import linear_model\n",
    "from sklearn.linear_model import Ridge\n",
    "#reg = linear_model.LinearRegression()\n",
    "reg = Ridge(alpha=1.0,solver='svd',tol=0.000001)\n",
    "reg.fit (trainingData, train_target)"
   ]
  },
  {
   "cell_type": "code",
   "execution_count": 56,
   "metadata": {
    "collapsed": true
   },
   "outputs": [],
   "source": [
    "df = pd.read_csv('E:\\\\Dropbox (个人)\\\\Master Course\\\\SEM-3\\\\ML\\\\Monk\\\\MONKS-DATASETS\\\\dataset1test',delimiter=' ',header=None, usecols = [1,2,3,4,5,6,7])"
   ]
  },
  {
   "cell_type": "code",
   "execution_count": 57,
   "metadata": {
    "collapsed": true
   },
   "outputs": [],
   "source": [
    "test_data = df.values\n",
    "test_features = test_data[:, 1:7]\n",
    "test_target = test_data[:, 0]"
   ]
  },
  {
   "cell_type": "code",
   "execution_count": 58,
   "metadata": {
    "collapsed": false
   },
   "outputs": [],
   "source": [
    "testingData=[]\n",
    "for line in test_features:\n",
    "    newline=[]\n",
    "    if  line[0] == 1:\n",
    "        newline.append(1)\n",
    "    else:\n",
    "        newline.append(0)\n",
    "    if  line[0] == 2:\n",
    "        newline.append(1)\n",
    "    else:\n",
    "        newline.append(0)\n",
    "    if  line[0] == 3:\n",
    "        newline.append(1)\n",
    "    else:\n",
    "        newline.append(0)\n",
    "    if  line[1] == 1:\n",
    "        newline.append(1)\n",
    "    else:\n",
    "        newline.append(0)\n",
    "    if  line[1] == 2:\n",
    "        newline.append(1)\n",
    "    else:\n",
    "        newline.append(0)\n",
    "    if  line[1] == 3:\n",
    "        newline.append(1)\n",
    "    else:\n",
    "        newline.append(0)\n",
    "    if  line[2] == 1:\n",
    "        newline.append(1)\n",
    "    else:\n",
    "        newline.append(0)\n",
    "    if  line[2] == 2:\n",
    "        newline.append(1)\n",
    "    else:\n",
    "        newline.append(0)\n",
    "    if  line[3] == 1:\n",
    "        newline.append(1)\n",
    "    else:\n",
    "        newline.append(0)\n",
    "    if  line[3] == 2:\n",
    "        newline.append(1)\n",
    "    else:\n",
    "        newline.append(0)\n",
    "    if  line[3] == 3:\n",
    "        newline.append(1)\n",
    "    else:\n",
    "        newline.append(0)\n",
    "    if  line[4] == 1:\n",
    "        newline.append(1)\n",
    "    else:\n",
    "        newline.append(0)\n",
    "    if  line[4] == 2:\n",
    "        newline.append(1)\n",
    "    else:\n",
    "        newline.append(0)\n",
    "    if  line[4] == 3:\n",
    "        newline.append(1)\n",
    "    else:\n",
    "        newline.append(0)\n",
    "    if  line[4] == 4:\n",
    "        newline.append(1)\n",
    "    else:\n",
    "        newline.append(0)\n",
    "    if  line[5] == 1:\n",
    "        newline.append(1)\n",
    "    else:\n",
    "        newline.append(0)\n",
    "    if  line[5] == 2:\n",
    "        newline.append(1)\n",
    "    else:\n",
    "        newline.append(0)\n",
    "    testingData.append(newline)"
   ]
  },
  {
   "cell_type": "code",
   "execution_count": 59,
   "metadata": {
    "collapsed": true
   },
   "outputs": [],
   "source": [
    "testingData = np.asarray(testingData)"
   ]
  },
  {
   "cell_type": "code",
   "execution_count": 60,
   "metadata": {
    "collapsed": false
   },
   "outputs": [
    {
     "data": {
      "text/plain": [
       "(432, 17)"
      ]
     },
     "execution_count": 60,
     "metadata": {},
     "output_type": "execute_result"
    }
   ],
   "source": [
    "testingData.shape"
   ]
  },
  {
   "cell_type": "code",
   "execution_count": 61,
   "metadata": {
    "collapsed": false
   },
   "outputs": [
    {
     "data": {
      "text/plain": [
       "(432,)"
      ]
     },
     "execution_count": 61,
     "metadata": {},
     "output_type": "execute_result"
    }
   ],
   "source": [
    "test_target.shape"
   ]
  },
  {
   "cell_type": "code",
   "execution_count": 62,
   "metadata": {
    "collapsed": false
   },
   "outputs": [
    {
     "data": {
      "text/plain": [
       "0.25479434730193118"
      ]
     },
     "execution_count": 62,
     "metadata": {},
     "output_type": "execute_result"
    }
   ],
   "source": [
    "reg.score(testingData,test_target)"
   ]
  },
  {
   "cell_type": "code",
   "execution_count": 63,
   "metadata": {
    "collapsed": false
   },
   "outputs": [
    {
     "data": {
      "text/plain": [
       "array([-0.13221198,  0.02249123,  0.10972075, -0.05844652,  0.02528787,\n",
       "        0.03315864,  0.02547582, -0.02547582,  0.08670888, -0.08822686,\n",
       "        0.00151797,  0.42827178, -0.14520075, -0.11571463, -0.1673564 ,\n",
       "       -0.00480463,  0.00480463])"
      ]
     },
     "execution_count": 63,
     "metadata": {},
     "output_type": "execute_result"
    }
   ],
   "source": [
    "reg.coef_"
   ]
  },
  {
   "cell_type": "code",
   "execution_count": 64,
   "metadata": {
    "collapsed": false
   },
   "outputs": [
    {
     "data": {
      "text/plain": [
       "0.37954788503510373"
      ]
     },
     "execution_count": 64,
     "metadata": {},
     "output_type": "execute_result"
    }
   ],
   "source": [
    "reg.score(trainingData,train_target)"
   ]
  },
  {
   "cell_type": "code",
   "execution_count": 65,
   "metadata": {
    "collapsed": false
   },
   "outputs": [
    {
     "name": "stdout",
     "output_type": "stream",
     "text": [
      "Accuracy  0.731481481481\n"
     ]
    }
   ],
   "source": [
    "from sklearn import tree\n",
    "from sklearn import metrics\n",
    "from sklearn.tree import export_graphviz\n",
    "from sklearn.ensemble import RandomForestClassifier, ExtraTreesClassifier\n",
    "from sklearn.metrics import confusion_matrix\n",
    "from sklearn.cross_validation import train_test_split\n",
    "from sklearn import cross_validation\n",
    "from sklearn.cross_validation import cross_val_score\n",
    "from sklearn import neighbors\n",
    "from sklearn import linear_model\n",
    "from sklearn.naive_bayes import GaussianNB\n",
    "from sklearn import svm\n",
    "\n",
    "\n",
    "pred_target = reg.predict(testingData)\n",
    "\n",
    "for i in range(len(pred_target)):\n",
    "    if (pred_target[i] < 0.5):\n",
    "        pred_target[i] = 0\n",
    "    else:\n",
    "        pred_target[i] = 1\n",
    "\n",
    "#print ('Precision :',metrics.precision_score(train_target, pred_target, average='weighted'))\n",
    "#print ('Recall :',metrics.recall_score(train_target, pred_target, average='weighted'))\n",
    "#print ('F1 :',metrics.f1_score(train_target, pred_target, average='weighted'))\n",
    "print ('Accuracy ',metrics.accuracy_score(test_target, pred_target))\n",
    "#print ('precision_recall_fscore_support',metrics.precision_recall_fscore_support(train_target, pred_target))"
   ]
  }
 ],
 "metadata": {
  "anaconda-cloud": {},
  "kernelspec": {
   "display_name": "Python [conda env:ML]",
   "language": "python",
   "name": "conda-env-ML-py"
  },
  "language_info": {
   "codemirror_mode": {
    "name": "ipython",
    "version": 3
   },
   "file_extension": ".py",
   "mimetype": "text/x-python",
   "name": "python",
   "nbconvert_exporter": "python",
   "pygments_lexer": "ipython3",
   "version": "3.5.3"
  }
 },
 "nbformat": 4,
 "nbformat_minor": 1
}
