{
 "cells": [
  {
   "cell_type": "code",
   "execution_count": 2,
   "metadata": {
    "collapsed": true
   },
   "outputs": [],
   "source": [
    "import pandas as pd\n",
    "import numpy as np\n",
    "import matplotlib.pyplot as plt\n",
    "%matplotlib inline\n",
    "from sklearn.metrics import roc_curve, auc"
   ]
  },
  {
   "cell_type": "code",
   "execution_count": 7,
   "metadata": {},
   "outputs": [],
   "source": [
    "df = np.loadtxt(\"C:\\\\Users\\\\ahmad\\\\Source\\\\Repos\\\\Monks\\\\AA1_Monks\\\\MLPTestDemo\\\\bin\\\\Debug\\\\ROC.txt\",  dtype = np.float32 ,delimiter = \",\",usecols=[1,2])"
   ]
  },
  {
   "cell_type": "code",
   "execution_count": 12,
   "metadata": {},
   "outputs": [
    {
     "name": "stdout",
     "output_type": "stream",
     "text": [
      "[[ 1.          1.        ]\n",
      " [ 1.          0.98039216]\n",
      " [ 1.          0.88725489]\n",
      " [ 1.          0.75      ]\n",
      " [ 1.          0.64215684]\n",
      " [ 1.          0.59313726]\n",
      " [ 1.          0.50980395]\n",
      " [ 1.          0.48039216]\n",
      " [ 1.          0.45588234]\n",
      " [ 1.          0.43137255]\n",
      " [ 1.          0.39705881]\n",
      " [ 1.          0.36764705]\n",
      " [ 1.          0.33333334]\n",
      " [ 1.          0.3137255 ]\n",
      " [ 1.          0.29411766]\n",
      " [ 1.          0.2647059 ]\n",
      " [ 0.99561405  0.25980392]\n",
      " [ 0.99561405  0.24019608]\n",
      " [ 0.99561405  0.24019608]\n",
      " [ 0.99561405  0.2254902 ]\n",
      " [ 0.99561405  0.22058824]\n",
      " [ 0.99122804  0.2009804 ]\n",
      " [ 0.99122804  0.2009804 ]\n",
      " [ 0.99122804  0.18627451]\n",
      " [ 0.99122804  0.17156863]\n",
      " [ 0.99122804  0.17156863]\n",
      " [ 0.99122804  0.16176471]\n",
      " [ 0.99122804  0.15686275]\n",
      " [ 0.99122804  0.15196079]\n",
      " [ 0.99122804  0.14215687]\n",
      " [ 0.99122804  0.14215687]\n",
      " [ 0.99122804  0.14215687]\n",
      " [ 0.99122804  0.13725491]\n",
      " [ 0.99122804  0.13725491]\n",
      " [ 0.99122804  0.12745099]\n",
      " [ 0.9868421   0.12254902]\n",
      " [ 0.9868421   0.12254902]\n",
      " [ 0.9868421   0.11764706]\n",
      " [ 0.98245615  0.11764706]\n",
      " [ 0.98245615  0.11764706]\n",
      " [ 0.98245615  0.10784314]\n",
      " [ 0.9780702   0.10784314]\n",
      " [ 0.9780702   0.10784314]\n",
      " [ 0.9780702   0.10784314]\n",
      " [ 0.9780702   0.10784314]\n",
      " [ 0.97368419  0.10784314]\n",
      " [ 0.97368419  0.10784314]\n",
      " [ 0.97368419  0.10784314]\n",
      " [ 0.97368419  0.10294118]\n",
      " [ 0.97368419  0.09313726]\n",
      " [ 0.97368419  0.0882353 ]\n",
      " [ 0.97368419  0.07843138]\n",
      " [ 0.97368419  0.07843138]\n",
      " [ 0.97368419  0.07843138]\n",
      " [ 0.97368419  0.07843138]\n",
      " [ 0.97368419  0.07352941]\n",
      " [ 0.97368419  0.07352941]\n",
      " [ 0.97368419  0.07352941]\n",
      " [ 0.97368419  0.07352941]\n",
      " [ 0.96929824  0.07352941]\n",
      " [ 0.96929824  0.07352941]\n",
      " [ 0.96929824  0.06862745]\n",
      " [ 0.96929824  0.06862745]\n",
      " [ 0.96929824  0.05882353]\n",
      " [ 0.96929824  0.05882353]\n",
      " [ 0.9649123   0.05392157]\n",
      " [ 0.9649123   0.05392157]\n",
      " [ 0.9649123   0.05392157]\n",
      " [ 0.9649123   0.05392157]\n",
      " [ 0.96052629  0.05392157]\n",
      " [ 0.96052629  0.05392157]\n",
      " [ 0.96052629  0.05392157]\n",
      " [ 0.95614034  0.05392157]\n",
      " [ 0.95614034  0.05392157]\n",
      " [ 0.95614034  0.05392157]\n",
      " [ 0.95614034  0.04901961]\n",
      " [ 0.95614034  0.04901961]\n",
      " [ 0.95614034  0.04901961]\n",
      " [ 0.95614034  0.04411765]\n",
      " [ 0.95614034  0.04411765]\n",
      " [ 0.95614034  0.04411765]\n",
      " [ 0.95614034  0.03921569]\n",
      " [ 0.95175439  0.03431373]\n",
      " [ 0.95175439  0.03431373]\n",
      " [ 0.95175439  0.03431373]\n",
      " [ 0.95175439  0.03431373]\n",
      " [ 0.95175439  0.03431373]\n",
      " [ 0.95175439  0.03431373]\n",
      " [ 0.95175439  0.03431373]\n",
      " [ 0.94736844  0.03431373]\n",
      " [ 0.94736844  0.03431373]\n",
      " [ 0.94736844  0.03431373]\n",
      " [ 0.93859649  0.02941176]\n",
      " [ 0.93859649  0.02941176]\n",
      " [ 0.93859649  0.02941176]\n",
      " [ 0.93859649  0.0245098 ]\n",
      " [ 0.93859649  0.0245098 ]\n",
      " [ 0.93859649  0.0245098 ]\n",
      " [ 0.93859649  0.0245098 ]\n",
      " [ 0.93421054  0.0245098 ]\n",
      " [ 0.93421054  0.0245098 ]\n",
      " [ 0.93421054  0.0245098 ]\n",
      " [ 0.92982459  0.0245098 ]\n",
      " [ 0.92982459  0.0245098 ]\n",
      " [ 0.92982459  0.0245098 ]\n",
      " [ 0.92982459  0.01960784]\n",
      " [ 0.92982459  0.01960784]\n",
      " [ 0.92982459  0.01960784]\n",
      " [ 0.92543858  0.01960784]\n",
      " [ 0.92543858  0.01960784]\n",
      " [ 0.92105263  0.01960784]\n",
      " [ 0.92105263  0.01960784]\n",
      " [ 0.91666669  0.01960784]\n",
      " [ 0.91228068  0.01960784]\n",
      " [ 0.91228068  0.01960784]\n",
      " [ 0.90789473  0.01960784]\n",
      " [ 0.90789473  0.01470588]\n",
      " [ 0.90789473  0.01470588]\n",
      " [ 0.90789473  0.01470588]\n",
      " [ 0.90789473  0.01470588]\n",
      " [ 0.90350878  0.01470588]\n",
      " [ 0.90350878  0.01470588]\n",
      " [ 0.90350878  0.01470588]\n",
      " [ 0.89912283  0.01470588]\n",
      " [ 0.89912283  0.00980392]\n",
      " [ 0.89912283  0.00490196]\n",
      " [ 0.89912283  0.00490196]\n",
      " [ 0.89473683  0.00490196]\n",
      " [ 0.89473683  0.00490196]\n",
      " [ 0.89473683  0.00490196]\n",
      " [ 0.89473683  0.00490196]\n",
      " [ 0.89035088  0.00490196]\n",
      " [ 0.89035088  0.00490196]\n",
      " [ 0.89035088  0.        ]\n",
      " [ 0.89035088  0.        ]\n",
      " [ 0.89035088  0.        ]\n",
      " [ 0.88596493  0.        ]\n",
      " [ 0.88157892  0.        ]\n",
      " [ 0.87280703  0.        ]\n",
      " [ 0.87280703  0.        ]\n",
      " [ 0.87280703  0.        ]\n",
      " [ 0.86842108  0.        ]\n",
      " [ 0.86842108  0.        ]\n",
      " [ 0.86403507  0.        ]\n",
      " [ 0.85964912  0.        ]\n",
      " [ 0.85526317  0.        ]\n",
      " [ 0.84210527  0.        ]\n",
      " [ 0.83333331  0.        ]\n",
      " [ 0.82894737  0.        ]\n",
      " [ 0.82894737  0.        ]\n",
      " [ 0.82456142  0.        ]\n",
      " [ 0.81578946  0.        ]\n",
      " [ 0.81578946  0.        ]\n",
      " [ 0.81578946  0.        ]\n",
      " [ 0.81140351  0.        ]\n",
      " [ 0.81140351  0.        ]\n",
      " [ 0.80263156  0.        ]\n",
      " [ 0.80263156  0.        ]\n",
      " [ 0.80263156  0.        ]\n",
      " [ 0.80263156  0.        ]\n",
      " [ 0.79824561  0.        ]\n",
      " [ 0.79385966  0.        ]\n",
      " [ 0.79385966  0.        ]\n",
      " [ 0.79385966  0.        ]\n",
      " [ 0.79385966  0.        ]\n",
      " [ 0.78947371  0.        ]\n",
      " [ 0.7850877   0.        ]\n",
      " [ 0.77631581  0.        ]\n",
      " [ 0.77631581  0.        ]\n",
      " [ 0.7631579   0.        ]\n",
      " [ 0.7631579   0.        ]\n",
      " [ 0.75438595  0.        ]\n",
      " [ 0.75        0.        ]\n",
      " [ 0.74122804  0.        ]\n",
      " [ 0.7368421   0.        ]\n",
      " [ 0.7368421   0.        ]\n",
      " [ 0.72368419  0.        ]\n",
      " [ 0.71929824  0.        ]\n",
      " [ 0.71929824  0.        ]\n",
      " [ 0.71052629  0.        ]\n",
      " [ 0.70175439  0.        ]\n",
      " [ 0.67543858  0.        ]\n",
      " [ 0.66666669  0.        ]\n",
      " [ 0.64473683  0.        ]\n",
      " [ 0.63596493  0.        ]\n",
      " [ 0.62280703  0.        ]\n",
      " [ 0.61842108  0.        ]\n",
      " [ 0.59210527  0.        ]\n",
      " [ 0.56578946  0.        ]\n",
      " [ 0.53947371  0.        ]\n",
      " [ 0.47807017  0.        ]\n",
      " [ 0.3640351   0.        ]\n",
      " [ 0.33771929  0.        ]\n",
      " [ 0.27631578  0.        ]\n",
      " [ 0.18859649  0.        ]\n",
      " [ 0.14473684  0.        ]\n",
      " [ 0.11842106  0.        ]\n",
      " [ 0.06578948  0.        ]\n",
      " [ 0.03508772  0.        ]\n",
      " [ 0.          0.        ]]\n"
     ]
    }
   ],
   "source": [
    "\n",
    "print (df)\n"
   ]
  },
  {
   "cell_type": "code",
   "execution_count": 10,
   "metadata": {},
   "outputs": [
    {
     "name": "stdout",
     "output_type": "stream",
     "text": [
      "[ 1.          0.98039216  0.88725489  0.75        0.64215684  0.59313726\n",
      "  0.50980395  0.48039216  0.45588234  0.43137255  0.39705881  0.36764705\n",
      "  0.33333334  0.3137255   0.29411766  0.2647059   0.25980392  0.24019608\n",
      "  0.24019608  0.2254902   0.22058824  0.2009804   0.2009804   0.18627451\n",
      "  0.17156863  0.17156863  0.16176471  0.15686275  0.15196079  0.14215687\n",
      "  0.14215687  0.14215687  0.13725491  0.13725491  0.12745099  0.12254902\n",
      "  0.12254902  0.11764706  0.11764706  0.11764706  0.10784314  0.10784314\n",
      "  0.10784314  0.10784314  0.10784314  0.10784314  0.10784314  0.10784314\n",
      "  0.10294118  0.09313726  0.0882353   0.07843138  0.07843138  0.07843138\n",
      "  0.07843138  0.07352941  0.07352941  0.07352941  0.07352941  0.07352941\n",
      "  0.07352941  0.06862745  0.06862745  0.05882353  0.05882353  0.05392157\n",
      "  0.05392157  0.05392157  0.05392157  0.05392157  0.05392157  0.05392157\n",
      "  0.05392157  0.05392157  0.05392157  0.04901961  0.04901961  0.04901961\n",
      "  0.04411765  0.04411765  0.04411765  0.03921569  0.03431373  0.03431373\n",
      "  0.03431373  0.03431373  0.03431373  0.03431373  0.03431373  0.03431373\n",
      "  0.03431373  0.03431373  0.02941176  0.02941176  0.02941176  0.0245098\n",
      "  0.0245098   0.0245098   0.0245098   0.0245098   0.0245098   0.0245098\n",
      "  0.0245098   0.0245098   0.0245098   0.01960784  0.01960784  0.01960784\n",
      "  0.01960784  0.01960784  0.01960784  0.01960784  0.01960784  0.01960784\n",
      "  0.01960784  0.01960784  0.01470588  0.01470588  0.01470588  0.01470588\n",
      "  0.01470588  0.01470588  0.01470588  0.01470588  0.00980392  0.00490196\n",
      "  0.00490196  0.00490196  0.00490196  0.00490196  0.00490196  0.00490196\n",
      "  0.00490196  0.          0.          0.          0.          0.          0.\n",
      "  0.          0.          0.          0.          0.          0.          0.\n",
      "  0.          0.          0.          0.          0.          0.          0.\n",
      "  0.          0.          0.          0.          0.          0.          0.\n",
      "  0.          0.          0.          0.          0.          0.          0.\n",
      "  0.          0.          0.          0.          0.          0.          0.\n",
      "  0.          0.          0.          0.          0.          0.          0.\n",
      "  0.          0.          0.          0.          0.          0.          0.\n",
      "  0.          0.          0.          0.          0.          0.          0.\n",
      "  0.          0.          0.          0.          0.        ]\n"
     ]
    }
   ],
   "source": [
    "print (df[:,1])"
   ]
  },
  {
   "cell_type": "code",
   "execution_count": 22,
   "metadata": {},
   "outputs": [
    {
     "data": {
      "image/png": "[encoded data removed]",
      "text/plain": [
       "<matplotlib.figure.Figure at 0x2b6e30115f8>"
      ]
     },
     "metadata": {},
     "output_type": "display_data"
    }
   ],
   "source": [
    "roc_auc = auc(df[:,1], df[:,0])\n",
    "plt.figure(figsize=(8,5))\n",
    "lw = 2\n",
    "plt.plot(df[:,1], df[:,0], color='darkorange',\n",
    "         lw=lw, label='ROC curve (area = %0.2f)' % roc_auc)\n",
    "plt.plot([0, 1], [0, 1], color='navy', lw=lw, linestyle='--')\n",
    "plt.xlim([-0.01, 1.0])\n",
    "plt.ylim([0.0, 1.05])\n",
    "plt.xlabel('False Positive Rate')\n",
    "plt.ylabel('True Positive Rate')\n",
    "plt.title('Receiver operating characteristic example')\n",
    "plt.legend(loc=\"lower right\")\n",
    "plt.show()"
   ]
  },
  {
   "cell_type": "code",
   "execution_count": 1,
   "metadata": {
    "collapsed": true
   },
   "outputs": [],
   "source": [
    "import pandas as pd\n",
    "import numpy as np\n",
    "import matplotlib.pyplot as plt\n",
    "%matplotlib inline\n",
    "from sklearn.metrics import roc_curve, auc"
   ]
  },
  {
   "cell_type": "code",
   "execution_count": 30,
   "metadata": {},
   "outputs": [],
   "source": [
    "\n",
    "df = pd.read_csv(\"C:\\\\Users\\\\ahmad\\\\Source\\\\Repos\\\\Monks\\\\AA1_Monks\\\\MLPTestDemo\\\\bin\\\\Debug\\\\learningcurve.txt\")"
   ]
  },
  {
   "cell_type": "code",
   "execution_count": 31,
   "metadata": {},
   "outputs": [
    {
     "data": {
      "text/plain": [
       "<matplotlib.axes._subplots.AxesSubplot at 0x2b6e4af7b70>"
      ]
     },
     "execution_count": 31,
     "metadata": {},
     "output_type": "execute_result"
    },
    {
     "data": {
      "image/png": "[encoded data removed]",
      "text/plain": [
       "<matplotlib.figure.Figure at 0x2b6e4aed9e8>"
      ]
     },
     "metadata": {},
     "output_type": "display_data"
    }
   ],
   "source": [
    "df.plot(figsize=(8,5))"
   ]
  },
  {
   "cell_type": "code",
   "execution_count": null,
   "metadata": {
    "collapsed": true
   },
   "outputs": [],
   "source": []
  },
  {
   "cell_type": "code",
   "execution_count": null,
   "metadata": {
    "collapsed": true
   },
   "outputs": [],
   "source": []
  }
 ],
 "metadata": {
  "anaconda-cloud": {},
  "kernelspec": {
   "display_name": "Python 3",
   "language": "python",
   "name": "python3"
  },
  "language_info": {
   "codemirror_mode": {
    "name": "ipython",
    "version": 3
   },
   "file_extension": ".py",
   "mimetype": "text/x-python",
   "name": "python",
   "nbconvert_exporter": "python",
   "pygments_lexer": "ipython3",
   "version": "3.5.0"
  }
 },
 "nbformat": 4,
 "nbformat_minor": 1
}
